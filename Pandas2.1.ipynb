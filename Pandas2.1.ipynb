{
  "nbformat": 4,
  "nbformat_minor": 0,
  "metadata": {
    "colab": {
      "provenance": []
    },
    "kernelspec": {
      "name": "python3",
      "display_name": "Python 3"
    },
    "language_info": {
      "name": "python"
    }
  },
  "cells": [
    {
      "cell_type": "code",
      "execution_count": null,
      "metadata": {
        "id": "N_r889SsMk00"
      },
      "outputs": [],
      "source": [
        "import pandas as pd\n",
        "\n",
        "def article_views(views: pd.DataFrame) -> pd.DataFrame:\n",
        "    df = views[views['author_id'] == views['viewer_id']][['author_id']].rename(columns = {'author_id' : 'id'}).sort_values(by = 'id')['id'].unique()\n",
        "    return pd.DataFrame({'id' : df})"
      ]
    }
  ]
}