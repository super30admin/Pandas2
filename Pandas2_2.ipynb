{
  "nbformat": 4,
  "nbformat_minor": 0,
  "metadata": {
    "colab": {
      "provenance": []
    },
    "kernelspec": {
      "name": "python3",
      "display_name": "Python 3"
    },
    "language_info": {
      "name": "python"
    }
  },
  "cells": [
    {
      "cell_type": "code",
      "execution_count": null,
      "metadata": {
        "id": "N_r889SsMk00"
      },
      "outputs": [],
      "source": [
        "import pandas as pd\n",
        "\n",
        "def daily_leads_and_partners(daily_sales: pd.DataFrame) -> pd.DataFrame:\n",
        "\n",
        "    return (\n",
        "        daily_sales\n",
        "        .groupby(['date_id', 'make_name'])\n",
        "        .nunique()\n",
        "        .reset_index()\n",
        "        .rename(columns={'lead_id':'unique_leads', 'partner_id':'unique_partners'})\n",
        "        )"
      ]
    }
  ]
}